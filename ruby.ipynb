{
 "cells": [
  {
   "attachments": {},
   "cell_type": "markdown",
   "metadata": {},
   "source": [
    "## Ruby Jupyter Notebook in cursor.so"
   ]
  },
  {
   "cell_type": "code",
   "execution_count": 1,
   "metadata": {},
   "outputs": [
    {
     "name": "stdout",
     "output_type": "stream",
     "text": [
      "3.2.2\n"
     ]
    }
   ],
   "source": [
    "puts RUBY_VERSION"
   ]
  },
  {
   "cell_type": "code",
   "execution_count": 2,
   "metadata": {},
   "outputs": [
    {
     "name": "stdout",
     "output_type": "stream",
     "text": [
      "{\n",
      "       :time => 2023-05-13 20:11:45.176482 +0800,\n",
      "       :date => #<Date: 2023-05-13 ((2460078j,0s,0n),+0s,2299161j)>,\n",
      "    :message => \"Hello, Ruby!\"\n",
      "}\n"
     ]
    }
   ],
   "source": [
    "require 'awesome_print'\n",
    "require 'date'\n",
    "ap({time: Time.now, date: Date.today, message: 'Hello, Ruby!'})"
   ]
  }
 ],
 "metadata": {
  "kernelspec": {
   "display_name": "Ruby 3.2.2",
   "language": "ruby",
   "name": "ruby"
  },
  "language_info": {
   "file_extension": ".rb",
   "mimetype": "application/x-ruby",
   "name": "ruby",
   "version": "3.2.2"
  },
  "orig_nbformat": 4
 },
 "nbformat": 4,
 "nbformat_minor": 2
}
